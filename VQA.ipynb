{
 "cells": [
  {
   "cell_type": "code",
   "execution_count": 1,
   "id": "4b524b8c",
   "metadata": {},
   "outputs": [
    {
     "ename": "NameError",
     "evalue": "name 'qml' is not defined",
     "output_type": "error",
     "traceback": [
      "\u001b[0;31m---------------------------------------------------------------------------\u001b[0m",
      "\u001b[0;31mNameError\u001b[0m                                 Traceback (most recent call last)",
      "Cell \u001b[0;32mIn[1], line 1\u001b[0m\n\u001b[0;32m----> 1\u001b[0m dataset \u001b[38;5;241m=\u001b[39m qml\u001b[38;5;241m.\u001b[39mdata\u001b[38;5;241m.\u001b[39mload(\u001b[38;5;124m'\u001b[39m\u001b[38;5;124mqchem\u001b[39m\u001b[38;5;124m'\u001b[39m, molname\u001b[38;5;241m=\u001b[39m\u001b[38;5;124m\"\u001b[39m\u001b[38;5;124mH2\u001b[39m\u001b[38;5;124m\"\u001b[39m, basis\u001b[38;5;241m=\u001b[39mST)[\u001b[38;5;241m0\u001b[39m]\n\u001b[1;32m      2\u001b[0m H, qubits \u001b[38;5;241m=\u001b[39m dataset\u001b[38;5;241m.\u001b[39mhamiltonian, \u001b[38;5;28mlen\u001b[39m(dataset\u001b[38;5;241m.\u001b[39mhamiltonian\u001b[38;5;241m.\u001b[39mwires)\n",
      "\u001b[0;31mNameError\u001b[0m: name 'qml' is not defined"
     ]
    }
   ],
   "source": [
    "dataset = qml.data.load('qchem', molname=\"H2\", basis=ST)[0]\n",
    "H, qubits = dataset.hamiltonian, len(dataset.hamiltonian.wires)"
   ]
  },
  {
   "cell_type": "code",
   "execution_count": null,
   "id": "86078d41",
   "metadata": {},
   "outputs": [],
   "source": [
    "# from pennylane import qchem\n",
    "# symbols, coordinates = qchem.read_structure(\"CH3F.xyz\")"
   ]
  },
  {
   "cell_type": "code",
   "execution_count": null,
   "id": "7f7564fd",
   "metadata": {},
   "outputs": [],
   "source": [
    "# H, qubits = qchem.molecular_hamiltonian(symbols, coordinates)\n",
    "# print(\"Number of qubits: {:}\".format(qubits))\n",
    "# print(\"Qubit Hamiltonian\")\n",
    "# print(H)"
   ]
  },
  {
   "cell_type": "code",
   "execution_count": null,
   "id": "a8eb6ce1",
   "metadata": {},
   "outputs": [],
   "source": [
    "import pennylane as qml\n",
    "from pennylane import qchem\n",
    "\n",
    "# Hartree-Fock state\n",
    "hf = qml.qchem.hf_state(electrons=2,orbitals=4)"
   ]
  },
  {
   "cell_type": "code",
   "execution_count": null,
   "id": "7d7e1761",
   "metadata": {},
   "outputs": [],
   "source": [
    "from pennylane import numpy as np\n",
    "\n",
    "# atomic symbols defining the molecule\n",
    "symbols = ['H','H']\n",
    "\n",
    "# list to store energies\n",
    "energies = []\n",
    "\n",
    "# set up a loop to change bond length\n",
    "r_range = np.arange(0.5, 5.0, 0.25)\n",
    "\n",
    "# keeps track of points in the potential energy surface\n",
    "pes_point = 0"
   ]
  },
  {
   "cell_type": "code",
   "execution_count": null,
   "id": "a0482ffb",
   "metadata": {},
   "outputs": [],
   "source": [
    "for r in r_range:\n",
    "    # Change only the z coordinate of one atom\n",
    "    coordinates = np.array([0.0, 0.0, 0.0, 0.0, 0.0, r])\n",
    "\n",
    "    # Obtain the qubit Hamiltonian\n",
    "    H, qubits = qchem.molecular_hamiltonian(symbols, coordinates, method='pyscf')\n",
    "\n",
    "    # define the device, optimizer and circuit\n",
    "    dev = qml.device(\"default.qubit\", wires=qubits)\n",
    "    opt = qml.GradientDescentOptimizer(stepsize=0.4)\n",
    "\n",
    "    @qml.qnode(dev, interface='autograd')\n",
    "    def circuit(parameters):\n",
    "        # Prepare the HF state: |1100>\n",
    "        qml.BasisState(hf, wires=range(qubits))\n",
    "        qml.DoubleExcitation(parameters[0], wires=[0, 1, 2, 3])\n",
    "        qml.SingleExcitation(parameters[1], wires=[0, 2])\n",
    "        qml.SingleExcitation(parameters[2], wires=[1, 3])\n",
    "\n",
    "        return qml.expval(H)  # we are interested in minimizing this expectation value\n",
    "\n",
    "    # initialize the gate parameters\n",
    "    params = np.zeros(3, requires_grad=True)\n",
    "\n",
    "    # initialize with converged parameters from previous point\n",
    "    if pes_point > 0:\n",
    "        params = params_old\n",
    "\n",
    "    prev_energy = 0.0\n",
    "    for n in range(50):\n",
    "        # perform optimization step\n",
    "        params, energy = opt.step_and_cost(circuit, params)\n",
    "\n",
    "        if np.abs(energy - prev_energy) < 1e-6:\n",
    "            break\n",
    "        prev_energy = energy\n",
    "\n",
    "    # store the converged parameters\n",
    "    params_old = params\n",
    "    pes_point = pes_point + 1\n",
    "\n",
    "    energies.append(energy)"
   ]
  },
  {
   "cell_type": "code",
   "execution_count": null,
   "id": "b022fd3d",
   "metadata": {},
   "outputs": [],
   "source": [
    "import matplotlib.pyplot as plt\n",
    "\n",
    "fig, ax = plt.subplots()\n",
    "ax.plot(r_range, energies)\n",
    "\n",
    "ax.set(\n",
    "    xlabel=\"Bond length (Bohr)\",\n",
    "    ylabel=\"Total energy (Hartree)\",\n",
    "    title=\"Potential energy surface for H$_2$ dissociation\",\n",
    ")\n",
    "ax.grid()\n",
    "plt.show()"
   ]
  }
 ],
 "metadata": {
  "kernelspec": {
   "display_name": "Python 3 (ipykernel)",
   "language": "python",
   "name": "python3"
  },
  "language_info": {
   "codemirror_mode": {
    "name": "ipython",
    "version": 3
   },
   "file_extension": ".py",
   "mimetype": "text/x-python",
   "name": "python",
   "nbconvert_exporter": "python",
   "pygments_lexer": "ipython3",
   "version": "3.11.7"
  }
 },
 "nbformat": 4,
 "nbformat_minor": 5
}
